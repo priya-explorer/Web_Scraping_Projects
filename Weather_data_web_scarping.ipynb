{
 "cells": [
  {
   "cell_type": "markdown",
   "id": "dee79c46",
   "metadata": {},
   "source": [
    "# Web Scraping a 'Weather' webpage"
   ]
  },
  {
   "cell_type": "code",
   "execution_count": 1,
   "id": "a4b04ad6",
   "metadata": {},
   "outputs": [],
   "source": [
    "# Import necessary Libraries\n",
    "import requests\n",
    "from bs4 import BeautifulSoup\n",
    "import pandas as pd"
   ]
  },
  {
   "cell_type": "code",
   "execution_count": 2,
   "id": "983ece88",
   "metadata": {},
   "outputs": [
    {
     "data": {
      "text/plain": [
       "200"
      ]
     },
     "execution_count": 2,
     "metadata": {},
     "output_type": "execute_result"
    }
   ],
   "source": [
    "# Loading Web Page with 'request'\n",
    "\n",
    "## The url of the webpage that needs to be scraped\n",
    "url = \"https://weather.com/en-IN/weather/tenday/l/f246eb7c020bfee7d452818e9f16003e84db16f88ecb2acb98c6097fbca9032d\"\n",
    "\n",
    "# Making a 'Get' request\n",
    "file = requests.get(url)\n",
    "\n",
    "# To check if the code has run successfully!\n",
    "file.status_code"
   ]
  },
  {
   "cell_type": "code",
   "execution_count": 3,
   "id": "62ede719",
   "metadata": {},
   "outputs": [],
   "source": [
    "#To extract information from the HTML file. \n",
    "## Parsing the HTML \n",
    "soup = BeautifulSoup(file.content,'html.parser')"
   ]
  },
  {
   "cell_type": "code",
   "execution_count": 4,
   "id": "6556725b",
   "metadata": {},
   "outputs": [
    {
     "data": {
      "text/plain": [
       "<title data-react-helmet=\"true\">Global village, KA 10-Day Weather Forecast - The Weather Channel | Weather.com</title>"
      ]
     },
     "execution_count": 4,
     "metadata": {},
     "output_type": "execute_result"
    }
   ],
   "source": [
    "# Getting the title tag\n",
    "soup.title"
   ]
  },
  {
   "cell_type": "code",
   "execution_count": 5,
   "id": "18579149",
   "metadata": {},
   "outputs": [
    {
     "data": {
      "text/plain": [
       "'Global village, KA 10-Day Weather Forecast - The Weather Channel | Weather.com'"
      ]
     },
     "execution_count": 5,
     "metadata": {},
     "output_type": "execute_result"
    }
   ],
   "source": [
    "# Getting the text inside the title tag \n",
    "soup.title.string"
   ]
  },
  {
   "cell_type": "code",
   "execution_count": 6,
   "id": "bf90b8fe",
   "metadata": {},
   "outputs": [
    {
     "data": {
      "text/plain": [
       "'title'"
      ]
     },
     "execution_count": 6,
     "metadata": {},
     "output_type": "execute_result"
    }
   ],
   "source": [
    "# tag name\n",
    "soup.title.name"
   ]
  },
  {
   "cell_type": "code",
   "execution_count": 7,
   "id": "d7b32103",
   "metadata": {
    "scrolled": true
   },
   "outputs": [
    {
     "data": {
      "text/plain": [
       "'head'"
      ]
     },
     "execution_count": 7,
     "metadata": {},
     "output_type": "execute_result"
    }
   ],
   "source": [
    "# Getting the name of parent tag\n",
    "soup.title.parent.name"
   ]
  },
  {
   "cell_type": "code",
   "execution_count": 8,
   "id": "ce60bd03",
   "metadata": {},
   "outputs": [
    {
     "data": {
      "text/plain": [
       "'Generally clear. High 27ºC. Winds E at 15 to 25 km/h.'"
      ]
     },
     "execution_count": 8,
     "metadata": {},
     "output_type": "execute_result"
    }
   ],
   "source": [
    "# 'p' tag\n",
    "soup.find('p').get_text() #the first p tag text"
   ]
  },
  {
   "cell_type": "code",
   "execution_count": 9,
   "id": "28326b5a",
   "metadata": {},
   "outputs": [
    {
     "data": {
      "text/plain": [
       "['Special Forecasts',\n",
       " 'Today',\n",
       " 'Thu 05 | Day',\n",
       " 'Thu 05 | Night',\n",
       " 'Fri 06',\n",
       " 'Fri 06 | Day',\n",
       " 'Fri 06 | Night',\n",
       " 'Sat 07',\n",
       " 'Sat 07 | Day',\n",
       " 'Sat 07 | Night',\n",
       " 'Sun 08',\n",
       " 'Sun 08 | Day',\n",
       " 'Sun 08 | Night',\n",
       " 'Mon 09',\n",
       " 'Mon 09 | Day',\n",
       " 'Mon 09 | Night',\n",
       " 'Tue 10',\n",
       " 'Tue 10 | Day',\n",
       " 'Tue 10 | Night',\n",
       " 'Wed 11',\n",
       " 'Wed 11 | Day',\n",
       " 'Wed 11 | Night',\n",
       " 'Thu 12',\n",
       " 'Thu 12 | Day',\n",
       " 'Thu 12 | Night',\n",
       " 'Fri 13',\n",
       " 'Fri 13 | Day',\n",
       " 'Fri 13 | Night',\n",
       " 'Sat 14',\n",
       " 'Sat 14 | Day',\n",
       " 'Sat 14 | Night',\n",
       " 'Sun 15',\n",
       " 'Sun 15 | Day',\n",
       " 'Sun 15 | Night',\n",
       " 'Mon 16',\n",
       " 'Mon 16 | Day',\n",
       " 'Mon 16 | Night',\n",
       " 'Tue 17',\n",
       " 'Tue 17 | Day',\n",
       " 'Tue 17 | Night',\n",
       " 'Wed 18',\n",
       " 'Wed 18 | Day',\n",
       " 'Wed 18 | Night',\n",
       " 'Thu 19',\n",
       " 'Thu 19 | Day',\n",
       " 'Thu 19 | Night']"
      ]
     },
     "execution_count": 9,
     "metadata": {},
     "output_type": "execute_result"
    }
   ],
   "source": [
    "# h3 tags\n",
    "date_tags = soup.find_all('h3')\n",
    "date_forecast = [tags.text for tags in date_tags]\n",
    "date_forecast    "
   ]
  },
  {
   "cell_type": "code",
   "execution_count": 10,
   "id": "f923163e",
   "metadata": {},
   "outputs": [],
   "source": [
    "# Extracting the forecast for the 15 days  \n",
    "forecast = soup.find_all('details', class_=\"DaypartDetails--DayPartDetail--2XOOV Disclosure--themeList--1Dz21\")"
   ]
  },
  {
   "cell_type": "markdown",
   "id": "6bbb2ff5",
   "metadata": {},
   "source": [
    "### Extracting the neccessary data to create a dataframe"
   ]
  },
  {
   "cell_type": "code",
   "execution_count": 11,
   "id": "9138881b",
   "metadata": {
    "scrolled": true
   },
   "outputs": [
    {
     "data": {
      "text/plain": [
       "['Today',\n",
       " 'Fri 06',\n",
       " 'Sat 07',\n",
       " 'Sun 08',\n",
       " 'Mon 09',\n",
       " 'Tue 10',\n",
       " 'Wed 11',\n",
       " 'Thu 12',\n",
       " 'Fri 13',\n",
       " 'Sat 14',\n",
       " 'Sun 15',\n",
       " 'Mon 16',\n",
       " 'Tue 17',\n",
       " 'Wed 18',\n",
       " 'Thu 19']"
      ]
     },
     "execution_count": 11,
     "metadata": {},
     "output_type": "execute_result"
    }
   ],
   "source": [
    "# Finding all the date\n",
    "date = [item.find(class_=\"DetailsSummary--daypartName--kbngc\").get_text() for item in forecast]\n",
    "date"
   ]
  },
  {
   "cell_type": "markdown",
   "id": "c5ff3b8f",
   "metadata": {},
   "source": [
    "### Temperature Forecast"
   ]
  },
  {
   "cell_type": "code",
   "execution_count": 12,
   "id": "4b2f8530",
   "metadata": {},
   "outputs": [
    {
     "name": "stdout",
     "output_type": "stream",
     "text": [
      " Morning temperature:  ['27°', '28°', '28°', '29°', '29°', '28°', '29°', '30°', '30°', '31°', '31°', '31°', '30°', '30°', '29°'] \n",
      " Length: 15\n"
     ]
    }
   ],
   "source": [
    "# Extracting the day time temperature\n",
    "day_temp = [item.find(\"span\",class_=\"DetailsSummary--highTempValue--3PjlX\" ).get_text() for item in forecast]\n",
    "print(\" Morning temperature: \", day_temp, \"\\n\", \"Length:\", len(day_temp))"
   ]
  },
  {
   "cell_type": "code",
   "execution_count": 13,
   "id": "9359a9a7",
   "metadata": {},
   "outputs": [
    {
     "name": "stdout",
     "output_type": "stream",
     "text": [
      " Night temperature:  ['16°', '16°', '17°', '16°', '14°', '13°', '14°', '14°', '14°', '16°', '16°', '16°', '16°', '16°', '16°'] \n",
      " Length: 15\n"
     ]
    }
   ],
   "source": [
    "# Extracting the night time temperature\n",
    "night_temp = [item.find(\"span\",class_=\"DetailsSummary--lowTempValue--2tesQ\" ).get_text() for item in forecast]\n",
    "print(\" Night temperature: \", night_temp, \"\\n\", \"Length:\", len(day_temp))"
   ]
  },
  {
   "cell_type": "markdown",
   "id": "a306fff3",
   "metadata": {},
   "source": [
    "### Humidity Forecast"
   ]
  },
  {
   "cell_type": "code",
   "execution_count": 14,
   "id": "b0ee1ead",
   "metadata": {},
   "outputs": [
    {
     "name": "stdout",
     "output_type": "stream",
     "text": [
      "['46%', '79%', '59%', '79%', '60%', '83%', '58%', '79%', '54%', '72%', '47%', '74%', '44%', '68%', '39%', '62%', '38%', '60%', '39%', '60%', '42%', '59%', '42%', '63%', '45%', '70%', '48%', '71%', '50%', '68%'] \n",
      "\n",
      " Length: 30\n"
     ]
    }
   ],
   "source": [
    "# Using dictionary to pass key : value pair\n",
    "humidity  = soup.find_all('span',{ \"data-testid\" : \"PercentageValue\"}, class_=\"DetailsTable--value--2YD0-\") \n",
    "humidity_values=[item.get_text() for item in humidity] \n",
    "print(humidity_values, \"\\n\\n\", \"Length:\", len(humidity_values)) # values of both day and night"
   ]
  },
  {
   "cell_type": "code",
   "execution_count": 15,
   "id": "6c9be94f",
   "metadata": {},
   "outputs": [
    {
     "name": "stdout",
     "output_type": "stream",
     "text": [
      " Humidity in the day time:  ['46%', '59%', '60%', '58%', '54%', '47%', '44%', '39%', '38%', '39%', '42%', '42%', '45%', '48%', '50%'] \n",
      " Length:  15 \n",
      "\n",
      " Humidity in the night time:  ['79%', '79%', '83%', '79%', '72%', '74%', '68%', '62%', '60%', '60%', '59%', '63%', '70%', '71%', '68%'] \n",
      " Length:  15\n"
     ]
    }
   ],
   "source": [
    "humidity_values_day = [humidity_values[i] for i in range(0, len(humidity_values), 2)]\n",
    "humidity_values_night = [humidity_values[i] for i in range(1, len(humidity_values), 2)]\n",
    "\n",
    "print(\" Humidity in the day time: \", humidity_values_day,\"\\n\", \"Length: \", len(humidity_values_day), \"\\n\\n\" , \"Humidity in the night time: \" ,humidity_values_night, \"\\n\", \"Length: \", len(humidity_values_night))"
   ]
  },
  {
   "cell_type": "code",
   "execution_count": 16,
   "id": "bf2a4b4c",
   "metadata": {},
   "outputs": [
    {
     "data": {
      "text/html": [
       "<div>\n",
       "<style scoped>\n",
       "    .dataframe tbody tr th:only-of-type {\n",
       "        vertical-align: middle;\n",
       "    }\n",
       "\n",
       "    .dataframe tbody tr th {\n",
       "        vertical-align: top;\n",
       "    }\n",
       "\n",
       "    .dataframe thead th {\n",
       "        text-align: right;\n",
       "    }\n",
       "</style>\n",
       "<table border=\"1\" class=\"dataframe\">\n",
       "  <thead>\n",
       "    <tr style=\"text-align: right;\">\n",
       "      <th></th>\n",
       "      <th>Date</th>\n",
       "      <th>Day_Temp</th>\n",
       "      <th>Day_Humidity</th>\n",
       "      <th>Night_Temp</th>\n",
       "      <th>Night_Humidity</th>\n",
       "    </tr>\n",
       "  </thead>\n",
       "  <tbody>\n",
       "    <tr>\n",
       "      <th>0</th>\n",
       "      <td>Today</td>\n",
       "      <td>27°</td>\n",
       "      <td>46%</td>\n",
       "      <td>16°</td>\n",
       "      <td>79%</td>\n",
       "    </tr>\n",
       "    <tr>\n",
       "      <th>1</th>\n",
       "      <td>Fri 06</td>\n",
       "      <td>28°</td>\n",
       "      <td>59%</td>\n",
       "      <td>16°</td>\n",
       "      <td>79%</td>\n",
       "    </tr>\n",
       "    <tr>\n",
       "      <th>2</th>\n",
       "      <td>Sat 07</td>\n",
       "      <td>28°</td>\n",
       "      <td>60%</td>\n",
       "      <td>17°</td>\n",
       "      <td>83%</td>\n",
       "    </tr>\n",
       "    <tr>\n",
       "      <th>3</th>\n",
       "      <td>Sun 08</td>\n",
       "      <td>29°</td>\n",
       "      <td>58%</td>\n",
       "      <td>16°</td>\n",
       "      <td>79%</td>\n",
       "    </tr>\n",
       "    <tr>\n",
       "      <th>4</th>\n",
       "      <td>Mon 09</td>\n",
       "      <td>29°</td>\n",
       "      <td>54%</td>\n",
       "      <td>14°</td>\n",
       "      <td>72%</td>\n",
       "    </tr>\n",
       "    <tr>\n",
       "      <th>5</th>\n",
       "      <td>Tue 10</td>\n",
       "      <td>28°</td>\n",
       "      <td>47%</td>\n",
       "      <td>13°</td>\n",
       "      <td>74%</td>\n",
       "    </tr>\n",
       "    <tr>\n",
       "      <th>6</th>\n",
       "      <td>Wed 11</td>\n",
       "      <td>29°</td>\n",
       "      <td>44%</td>\n",
       "      <td>14°</td>\n",
       "      <td>68%</td>\n",
       "    </tr>\n",
       "    <tr>\n",
       "      <th>7</th>\n",
       "      <td>Thu 12</td>\n",
       "      <td>30°</td>\n",
       "      <td>39%</td>\n",
       "      <td>14°</td>\n",
       "      <td>62%</td>\n",
       "    </tr>\n",
       "    <tr>\n",
       "      <th>8</th>\n",
       "      <td>Fri 13</td>\n",
       "      <td>30°</td>\n",
       "      <td>38%</td>\n",
       "      <td>14°</td>\n",
       "      <td>60%</td>\n",
       "    </tr>\n",
       "    <tr>\n",
       "      <th>9</th>\n",
       "      <td>Sat 14</td>\n",
       "      <td>31°</td>\n",
       "      <td>39%</td>\n",
       "      <td>16°</td>\n",
       "      <td>60%</td>\n",
       "    </tr>\n",
       "    <tr>\n",
       "      <th>10</th>\n",
       "      <td>Sun 15</td>\n",
       "      <td>31°</td>\n",
       "      <td>42%</td>\n",
       "      <td>16°</td>\n",
       "      <td>59%</td>\n",
       "    </tr>\n",
       "    <tr>\n",
       "      <th>11</th>\n",
       "      <td>Mon 16</td>\n",
       "      <td>31°</td>\n",
       "      <td>42%</td>\n",
       "      <td>16°</td>\n",
       "      <td>63%</td>\n",
       "    </tr>\n",
       "    <tr>\n",
       "      <th>12</th>\n",
       "      <td>Tue 17</td>\n",
       "      <td>30°</td>\n",
       "      <td>45%</td>\n",
       "      <td>16°</td>\n",
       "      <td>70%</td>\n",
       "    </tr>\n",
       "    <tr>\n",
       "      <th>13</th>\n",
       "      <td>Wed 18</td>\n",
       "      <td>30°</td>\n",
       "      <td>48%</td>\n",
       "      <td>16°</td>\n",
       "      <td>71%</td>\n",
       "    </tr>\n",
       "    <tr>\n",
       "      <th>14</th>\n",
       "      <td>Thu 19</td>\n",
       "      <td>29°</td>\n",
       "      <td>50%</td>\n",
       "      <td>16°</td>\n",
       "      <td>68%</td>\n",
       "    </tr>\n",
       "  </tbody>\n",
       "</table>\n",
       "</div>"
      ],
      "text/plain": [
       "      Date Day_Temp Day_Humidity Night_Temp Night_Humidity\n",
       "0    Today      27°          46%        16°            79%\n",
       "1   Fri 06      28°          59%        16°            79%\n",
       "2   Sat 07      28°          60%        17°            83%\n",
       "3   Sun 08      29°          58%        16°            79%\n",
       "4   Mon 09      29°          54%        14°            72%\n",
       "5   Tue 10      28°          47%        13°            74%\n",
       "6   Wed 11      29°          44%        14°            68%\n",
       "7   Thu 12      30°          39%        14°            62%\n",
       "8   Fri 13      30°          38%        14°            60%\n",
       "9   Sat 14      31°          39%        16°            60%\n",
       "10  Sun 15      31°          42%        16°            59%\n",
       "11  Mon 16      31°          42%        16°            63%\n",
       "12  Tue 17      30°          45%        16°            70%\n",
       "13  Wed 18      30°          48%        16°            71%\n",
       "14  Thu 19      29°          50%        16°            68%"
      ]
     },
     "execution_count": 16,
     "metadata": {},
     "output_type": "execute_result"
    }
   ],
   "source": [
    "# Creating a dataframe with the data collected\n",
    "df = pd.DataFrame({\"Date\":date, \"Day_Temp\":day_temp, \"Day_Humidity\":humidity_values_day, \"Night_Temp\":night_temp, \"Night_Humidity\":humidity_values_night})\n",
    "df"
   ]
  },
  {
   "cell_type": "code",
   "execution_count": 17,
   "id": "7bac8457",
   "metadata": {},
   "outputs": [],
   "source": [
    "# Saving the data into a csv file\n",
    "df.to_csv(\"weather_data.csv\", index= False)"
   ]
  },
  {
   "cell_type": "markdown",
   "id": "95749ee9",
   "metadata": {},
   "source": [
    "                                       *************************************"
   ]
  }
 ],
 "metadata": {
  "kernelspec": {
   "display_name": "Python 3 (ipykernel)",
   "language": "python",
   "name": "python3"
  },
  "language_info": {
   "codemirror_mode": {
    "name": "ipython",
    "version": 3
   },
   "file_extension": ".py",
   "mimetype": "text/x-python",
   "name": "python",
   "nbconvert_exporter": "python",
   "pygments_lexer": "ipython3",
   "version": "3.9.7"
  }
 },
 "nbformat": 4,
 "nbformat_minor": 5
}
